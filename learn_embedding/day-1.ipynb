{
 "cells": [
  {
   "cell_type": "code",
   "execution_count": 57,
   "id": "2cfb502d-9bad-457a-afe8-0e7f31728caf",
   "metadata": {
    "scrolled": true
   },
   "outputs": [],
   "source": [
    "# 导入 pandas 处理数据\n",
    "import pandas as pd\n",
    "# 导入 tiktoken 计算待 embedding 的文本，所需的 token 开销\n",
    "import tiktoken\n",
    "# 导入 openai 的模型开发包，获取可用模型\n",
    "import openai"
   ]
  },
  {
   "cell_type": "code",
   "execution_count": 58,
   "id": "bfde2941-df3c-49c6-98e4-3ebebedd08c9",
   "metadata": {
    "collapsed": true,
    "jupyter": {
     "outputs_hidden": true
    },
    "scrolled": true
   },
   "outputs": [
    {
     "data": {
      "text/html": [
       "<div>\n",
       "<style scoped>\n",
       "    .dataframe tbody tr th:only-of-type {\n",
       "        vertical-align: middle;\n",
       "    }\n",
       "\n",
       "    .dataframe tbody tr th {\n",
       "        vertical-align: top;\n",
       "    }\n",
       "\n",
       "    .dataframe thead th {\n",
       "        text-align: right;\n",
       "    }\n",
       "</style>\n",
       "<table border=\"1\" class=\"dataframe\">\n",
       "  <thead>\n",
       "    <tr style=\"text-align: right;\">\n",
       "      <th></th>\n",
       "      <th>Time</th>\n",
       "      <th>ProductId</th>\n",
       "      <th>UserId</th>\n",
       "      <th>Score</th>\n",
       "      <th>Summary</th>\n",
       "      <th>Text</th>\n",
       "      <th>combined</th>\n",
       "    </tr>\n",
       "  </thead>\n",
       "  <tbody>\n",
       "    <tr>\n",
       "      <th>0</th>\n",
       "      <td>1351123200</td>\n",
       "      <td>B003XPF9BO</td>\n",
       "      <td>A3R7JR3FMEBXQB</td>\n",
       "      <td>5</td>\n",
       "      <td>where does one  start...and stop... with a tre...</td>\n",
       "      <td>Wanted to save some to bring to my Chicago fam...</td>\n",
       "      <td>Title: where does one  start...and stop... wit...</td>\n",
       "    </tr>\n",
       "    <tr>\n",
       "      <th>1</th>\n",
       "      <td>1351123200</td>\n",
       "      <td>B003JK537S</td>\n",
       "      <td>A3JBPC3WFUT5ZP</td>\n",
       "      <td>1</td>\n",
       "      <td>Arrived in pieces</td>\n",
       "      <td>Not pleased at all. When I opened the box, mos...</td>\n",
       "      <td>Title: Arrived in pieces；Content: Not pleased ...</td>\n",
       "    </tr>\n",
       "  </tbody>\n",
       "</table>\n",
       "</div>"
      ],
      "text/plain": [
       "         Time   ProductId          UserId  Score  \\\n",
       "0  1351123200  B003XPF9BO  A3R7JR3FMEBXQB      5   \n",
       "1  1351123200  B003JK537S  A3JBPC3WFUT5ZP      1   \n",
       "\n",
       "                                             Summary  \\\n",
       "0  where does one  start...and stop... with a tre...   \n",
       "1                                  Arrived in pieces   \n",
       "\n",
       "                                                Text  \\\n",
       "0  Wanted to save some to bring to my Chicago fam...   \n",
       "1  Not pleased at all. When I opened the box, mos...   \n",
       "\n",
       "                                            combined  \n",
       "0  Title: where does one  start...and stop... wit...  \n",
       "1  Title: Arrived in pieces；Content: Not pleased ...  "
      ]
     },
     "execution_count": 58,
     "metadata": {},
     "output_type": "execute_result"
    }
   ],
   "source": [
    "input_datapath = \"data/fine_food_reviews_1k.csv\"\n",
    "df = pd.read_csv(input_datapath, index_col=0)\n",
    "df = df[[\"Time\", \"ProductId\", \"UserId\", \"Score\", \"Summary\", \"Text\"]]\n",
    "df = df.dropna()\n",
    "\n",
    "# 合并 Text 和 Summary 到新列 combined\n",
    "df['combined'] = (\"Title: \" + df.Summary.str.strip() + \"；Content: \" + df.Text.str.strip())\n",
    "\n",
    "df.head(2)"
   ]
  },
  {
   "cell_type": "code",
   "execution_count": 59,
   "id": "97690da3-1867-479f-99a5-79b927074bae",
   "metadata": {
    "jupyter": {
     "source_hidden": true
    }
   },
   "outputs": [],
   "source": [
    "# 模型名称 —— 该模型支持的输入 token 上限为 8191，向量维度是 1536\n",
    "embedding_model = \"text-embedding_ada_002\"\n",
    "# 使用的分词器名称\n",
    "embedding_encoding = \"cl100k_base\"\n",
    "# 设置过滤值，超过该值的文本丢弃\n",
    "max_tokens = 8000"
   ]
  },
  {
   "cell_type": "code",
   "execution_count": 60,
   "id": "34e05fe1-53d2-4afe-b2e8-7737b0f6f006",
   "metadata": {},
   "outputs": [
    {
     "data": {
      "text/plain": [
       "1000"
      ]
     },
     "execution_count": 60,
     "metadata": {},
     "output_type": "execute_result"
    }
   ],
   "source": [
    "# 设置筛选的评论数量基数\n",
    "top_n = 1000\n",
    "# 基于 Time 列对 DF 进行排序，获取最新的两千条评论\n",
    "df = df.sort_values(\"Time\").tail(top_n * 2)\n",
    "df.drop(\"Time\", axis=1, inplace=True)\n",
    "encoding = tiktoken.get_encoding(embedding_encoding)\n",
    "\n",
    "df['n_tokens'] = df.combined.apply(lambda x: len(encoding.encode(x)))\n",
    "df = df[df.n_tokens <= max_tokens].tail(top_n)\n",
    "len(df)"
   ]
  },
  {
   "cell_type": "code",
   "execution_count": 63,
   "id": "d310e285-b745-4246-a8a7-1d25f4d13ff2",
   "metadata": {},
   "outputs": [
    {
     "ename": "SyntaxError",
     "evalue": "invalid syntax (2219769993.py, line 2)",
     "output_type": "error",
     "traceback": [
      "\u001b[1;36m  Cell \u001b[1;32mIn[63], line 2\u001b[1;36m\u001b[0m\n\u001b[1;33m    df['embedding'] = df.combined.apply(lambda x: openai..get_embedding(x, engine= embedding_model))\u001b[0m\n\u001b[1;37m                                                         ^\u001b[0m\n\u001b[1;31mSyntaxError\u001b[0m\u001b[1;31m:\u001b[0m invalid syntax\n"
     ]
    }
   ],
   "source": [
    "# 非必须步骤，可用已生成的向量。\n",
    "df['embedding'] = df.combined.apply(lambda x: openai..get_embedding(x, engine= embedding_model))\n",
    "output_datapath = \"data/fine_food_receivews_with_embeddings_1k_2146.csv\"\n",
    "df.to_csv(output_datapath)"
   ]
  },
  {
   "cell_type": "code",
   "execution_count": 93,
   "id": "30f956bc-402e-4383-b3c9-153354e22405",
   "metadata": {
    "collapsed": true,
    "jupyter": {
     "outputs_hidden": true
    },
    "scrolled": true
   },
   "outputs": [
    {
     "data": {
      "text/plain": [
       "12     [-0.0005399271612986922, -0.004124758299440145...\n",
       "13     [0.0068963742814958096, 0.0167608093470335, -0...\n",
       "14     [-0.0023715533316135406, -0.021357767283916473...\n",
       "15     [0.00226533692330122, 0.010306870564818382, 0....\n",
       "16     [-0.027459919452667236, -0.009041198529303074,...\n",
       "                             ...                        \n",
       "447    [0.00796585250645876, 0.0017102764686569571, 0...\n",
       "436    [0.001777207711711526, -0.011673098430037498, ...\n",
       "437    [-0.005498920567333698, -0.014834611676633358,...\n",
       "438    [-0.00294404081068933, -0.007058987859636545, ...\n",
       "439    [-0.006043732166290283, -0.000693734094966203,...\n",
       "Name: embedding, Length: 1000, dtype: object"
      ]
     },
     "execution_count": 93,
     "metadata": {},
     "output_type": "execute_result"
    }
   ],
   "source": [
    "## 读取 embedding 后的数据。\n",
    "df = pd.read_csv(\"data/fine_food_reviews_with_embeddings_1k.csv\", index_col=0)\n",
    "df[\"embedding\"]"
   ]
  },
  {
   "cell_type": "code",
   "execution_count": 95,
   "id": "9178d59b-1004-4375-9164-e88ef56eff0d",
   "metadata": {},
   "outputs": [],
   "source": [
    "import ast\n",
    "df[\"embedding_vec\"]  = df.embedding.apply(ast.literal_eval)"
   ]
  },
  {
   "cell_type": "code",
   "execution_count": 96,
   "id": "327978e3-bc44-4e68-8bd3-da318308e5f1",
   "metadata": {},
   "outputs": [],
   "source": [
    "import numpy as np"
   ]
  },
  {
   "cell_type": "code",
   "execution_count": 97,
   "id": "fd84ffa2-3fe5-4100-8b0d-a6db14f2ac7a",
   "metadata": {},
   "outputs": [],
   "source": [
    "import matplotlib as mpb"
   ]
  },
  {
   "cell_type": "code",
   "execution_count": 98,
   "id": "e39eba34-60fc-4f2b-b928-c65a01d3a226",
   "metadata": {},
   "outputs": [],
   "source": [
    "import sklearn"
   ]
  },
  {
   "cell_type": "code",
   "execution_count": 99,
   "id": "25f0085b-4b96-4ed8-8b20-8521d5781b8f",
   "metadata": {},
   "outputs": [],
   "source": [
    "assert df.embedding_vec.apply(len).nunique() == 1"
   ]
  },
  {
   "cell_type": "code",
   "execution_count": 100,
   "id": "c50fcc93-aab4-4cc8-9c3a-866115bca158",
   "metadata": {},
   "outputs": [],
   "source": [
    "matrix = np.vstack(df.embedding_vec.values)"
   ]
  },
  {
   "cell_type": "markdown",
   "id": "2e23fea8-6cd5-4ee1-a3df-c8fde32f1ca1",
   "metadata": {},
   "source": [
    "tsne = sklearn.manifold.TSNE(n_components=2, perplexity=15, random_state=42, init='random', learning_rate=200)"
   ]
  },
  {
   "cell_type": "code",
   "execution_count": null,
   "id": "ef1272d1-65ac-4a14-a88d-7436a02a4be1",
   "metadata": {},
   "outputs": [],
   "source": []
  }
 ],
 "metadata": {
  "kernelspec": {
   "display_name": "venv",
   "language": "python",
   "name": "venv"
  },
  "language_info": {
   "codemirror_mode": {
    "name": "ipython",
    "version": 3
   },
   "file_extension": ".py",
   "mimetype": "text/x-python",
   "name": "python",
   "nbconvert_exporter": "python",
   "pygments_lexer": "ipython3",
   "version": "3.11.0"
  }
 },
 "nbformat": 4,
 "nbformat_minor": 5
}
